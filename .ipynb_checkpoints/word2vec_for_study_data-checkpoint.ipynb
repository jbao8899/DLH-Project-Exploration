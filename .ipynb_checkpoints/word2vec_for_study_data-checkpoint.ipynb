{
 "cells": [
  {
   "cell_type": "code",
   "execution_count": 1,
   "id": "51797477",
   "metadata": {},
   "outputs": [],
   "source": [
    "import numpy as np\n",
    "import os\n",
    "import pandas as pd\n",
    "import re\n",
    "import time\n",
    "import sys\n",
    "import torch\n",
    "import torch.nn as nn\n",
    "\n",
    "from gensim.test.utils import datapath\n",
    "from gensim.models import KeyedVectors\n",
    "from gensim.models import Word2Vec\n",
    "from torch.utils.data import Dataset"
   ]
  },
  {
   "cell_type": "code",
   "execution_count": 34,
   "id": "11725d15",
   "metadata": {},
   "outputs": [],
   "source": [
    "embedding_vector_size = 100\n",
    "num_study_docs = 1341"
   ]
  },
  {
   "cell_type": "code",
   "execution_count": 3,
   "id": "1f809d59",
   "metadata": {},
   "outputs": [
    {
     "name": "stderr",
     "output_type": "stream",
     "text": [
      "C:\\Users\\jbao8\\AppData\\Local\\Temp\\ipykernel_1492\\716423581.py:2: DtypeWarning: Columns (4,5) have mixed types. Specify dtype option on import or set low_memory=False.\n",
      "  clinical_notes_df = pd.read_csv(\"NOTEEVENTS.csv\")\n"
     ]
    },
    {
     "name": "stdout",
     "output_type": "stream",
     "text": [
      "78.38705682754517\n"
     ]
    }
   ],
   "source": [
    "t1 = time.time()\n",
    "clinical_notes_df = pd.read_csv(\"NOTEEVENTS.csv\")\n",
    "# CHARTDATE and CHARTTIME apparrently have mixed types, but that does not matter for us\n",
    "t2 = time.time()\n",
    "print(t2 - t1)"
   ]
  },
  {
   "cell_type": "code",
   "execution_count": 4,
   "id": "0c867a1f",
   "metadata": {},
   "outputs": [
    {
     "name": "stdout",
     "output_type": "stream",
     "text": [
      "(2083180, 11)\n",
      "   ROW_ID  SUBJECT_ID   HADM_ID   CHARTDATE CHARTTIME STORETIME   \n",
      "0     174       22532  167853.0  2151-08-04       NaN       NaN  \\\n",
      "\n",
      "            CATEGORY DESCRIPTION  CGID  ISERROR   \n",
      "0  Discharge summary      Report   NaN      NaN  \\\n",
      "\n",
      "                                                TEXT  \n",
      "0  Admission Date:  [**2151-7-16**]       Dischar...  \n"
     ]
    }
   ],
   "source": [
    "print(clinical_notes_df.shape)\n",
    "print(clinical_notes_df.head(1))"
   ]
  },
  {
   "cell_type": "code",
   "execution_count": 5,
   "id": "e8e7655a",
   "metadata": {},
   "outputs": [],
   "source": [
    "annotations_df = pd.read_csv(\"annotations.csv\")"
   ]
  },
  {
   "cell_type": "code",
   "execution_count": 6,
   "id": "8d898e60",
   "metadata": {},
   "outputs": [
    {
     "data": {
      "text/plain": [
       "(1610, 18)"
      ]
     },
     "execution_count": 6,
     "metadata": {},
     "output_type": "execute_result"
    }
   ],
   "source": [
    "annotations_df.shape"
   ]
  },
  {
   "cell_type": "code",
   "execution_count": 7,
   "id": "0a02ea53",
   "metadata": {},
   "outputs": [
    {
     "data": {
      "text/html": [
       "<div>\n",
       "<style scoped>\n",
       "    .dataframe tbody tr th:only-of-type {\n",
       "        vertical-align: middle;\n",
       "    }\n",
       "\n",
       "    .dataframe tbody tr th {\n",
       "        vertical-align: top;\n",
       "    }\n",
       "\n",
       "    .dataframe thead th {\n",
       "        text-align: right;\n",
       "    }\n",
       "</style>\n",
       "<table border=\"1\" class=\"dataframe\">\n",
       "  <thead>\n",
       "    <tr style=\"text-align: right;\">\n",
       "      <th></th>\n",
       "      <th>Hospital.Admission.ID</th>\n",
       "      <th>subject.id</th>\n",
       "      <th>chart.time</th>\n",
       "      <th>cohort</th>\n",
       "      <th>Obesity</th>\n",
       "      <th>Non.Adherence</th>\n",
       "      <th>Developmental.Delay.Retardation</th>\n",
       "      <th>Advanced.Heart.Disease</th>\n",
       "      <th>Advanced.Lung.Disease</th>\n",
       "      <th>Schizophrenia.and.other.Psychiatric.Disorders</th>\n",
       "      <th>Alcohol.Abuse</th>\n",
       "      <th>Other.Substance.Abuse</th>\n",
       "      <th>Chronic.Pain.Fibromyalgia</th>\n",
       "      <th>Chronic.Neurological.Dystrophies</th>\n",
       "      <th>Advanced.Cancer</th>\n",
       "      <th>Depression</th>\n",
       "      <th>Dementia</th>\n",
       "      <th>Unsure</th>\n",
       "    </tr>\n",
       "  </thead>\n",
       "  <tbody>\n",
       "    <tr>\n",
       "      <th>0</th>\n",
       "      <td>118003</td>\n",
       "      <td>3644</td>\n",
       "      <td>118003</td>\n",
       "      <td>1</td>\n",
       "      <td>0</td>\n",
       "      <td>0</td>\n",
       "      <td>0</td>\n",
       "      <td>0</td>\n",
       "      <td>0</td>\n",
       "      <td>0</td>\n",
       "      <td>0</td>\n",
       "      <td>0</td>\n",
       "      <td>1</td>\n",
       "      <td>0</td>\n",
       "      <td>0</td>\n",
       "      <td>1</td>\n",
       "      <td>0</td>\n",
       "      <td>0</td>\n",
       "    </tr>\n",
       "  </tbody>\n",
       "</table>\n",
       "</div>"
      ],
      "text/plain": [
       "   Hospital.Admission.ID  subject.id  chart.time  cohort  Obesity   \n",
       "0                 118003        3644      118003       1        0  \\\n",
       "\n",
       "   Non.Adherence  Developmental.Delay.Retardation  Advanced.Heart.Disease   \n",
       "0              0                                0                       0  \\\n",
       "\n",
       "   Advanced.Lung.Disease  Schizophrenia.and.other.Psychiatric.Disorders   \n",
       "0                      0                                              0  \\\n",
       "\n",
       "   Alcohol.Abuse  Other.Substance.Abuse  Chronic.Pain.Fibromyalgia   \n",
       "0              0                      0                          1  \\\n",
       "\n",
       "   Chronic.Neurological.Dystrophies  Advanced.Cancer  Depression  Dementia   \n",
       "0                                 0                0           1         0  \\\n",
       "\n",
       "   Unsure  \n",
       "0       0  "
      ]
     },
     "execution_count": 7,
     "metadata": {},
     "output_type": "execute_result"
    }
   ],
   "source": [
    "annotations_df.head(1)"
   ]
  },
  {
   "cell_type": "code",
   "execution_count": 8,
   "id": "3eaad658",
   "metadata": {},
   "outputs": [],
   "source": [
    "# Get all documents wtih a combination of hospital admission ID and subject ID matching one\n",
    "# used in the study\n",
    "merged_df = pd.merge(annotations_df, clinical_notes_df, left_on = [\"Hospital.Admission.ID\", \"subject.id\"], right_on = [\"HADM_ID\", \"SUBJECT_ID\"])"
   ]
  },
  {
   "cell_type": "code",
   "execution_count": 9,
   "id": "5937cf00",
   "metadata": {},
   "outputs": [
    {
     "data": {
      "text/plain": [
       "(56839, 29)"
      ]
     },
     "execution_count": 9,
     "metadata": {},
     "output_type": "execute_result"
    }
   ],
   "source": [
    "merged_df.shape"
   ]
  },
  {
   "cell_type": "code",
   "execution_count": 10,
   "id": "3d5df55b",
   "metadata": {},
   "outputs": [
    {
     "data": {
      "text/plain": [
       "CATEGORY\n",
       "Nursing/other        21066\n",
       "Radiology            13135\n",
       "Nursing               7520\n",
       "Physician             5059\n",
       "ECG                   5026\n",
       "Discharge summary     1976\n",
       "Respiratory           1155\n",
       "Echo                  1021\n",
       "Nutrition              325\n",
       "General                290\n",
       "Rehab Services         166\n",
       "Social Work             64\n",
       "Case Management         36\n",
       "Name: count, dtype: int64"
      ]
     },
     "execution_count": 10,
     "metadata": {},
     "output_type": "execute_result"
    }
   ],
   "source": [
    "merged_df[\"CATEGORY\"].value_counts()"
   ]
  },
  {
   "cell_type": "code",
   "execution_count": 11,
   "id": "b55f3230",
   "metadata": {},
   "outputs": [],
   "source": [
    "# Only the discharge summaries are relevant\n",
    "merged_df = merged_df[merged_df[\"CATEGORY\"] == \"Discharge summary\"]"
   ]
  },
  {
   "cell_type": "code",
   "execution_count": 12,
   "id": "b23cfbad",
   "metadata": {},
   "outputs": [
    {
     "data": {
      "text/plain": [
       "(1976, 29)"
      ]
     },
     "execution_count": 12,
     "metadata": {},
     "output_type": "execute_result"
    }
   ],
   "source": [
    "merged_df.shape"
   ]
  },
  {
   "cell_type": "code",
   "execution_count": 13,
   "id": "0a349e31",
   "metadata": {},
   "outputs": [
    {
     "data": {
      "text/plain": [
       "(1560, 3)"
      ]
     },
     "execution_count": 13,
     "metadata": {},
     "output_type": "execute_result"
    }
   ],
   "source": [
    "# Number of unique combinations of hospital admission ID and subject ID\n",
    "merged_df.groupby([\"HADM_ID\", \"SUBJECT_ID\"]).size().reset_index().rename(columns = {0 : 'count'}).shape"
   ]
  },
  {
   "cell_type": "code",
   "execution_count": 14,
   "id": "02875f6f",
   "metadata": {},
   "outputs": [
    {
     "name": "stdout",
     "output_type": "stream",
     "text": [
      "(219, 3)\n",
      "(1341, 3)\n"
     ]
    }
   ],
   "source": [
    "temp = merged_df.groupby([\"HADM_ID\", \"SUBJECT_ID\"]).size().reset_index().rename(columns = {0 : 'count'})\n",
    "\n",
    "# Number of unique combinations of hospital admission ID and subject ID\n",
    "# which have more than one discharge summary\n",
    "print(temp[temp[\"count\"] > 1].shape)\n",
    "\n",
    "# Number of unique combinations of hospital admission ID and subject ID\n",
    "# which have only one discharge summary\n",
    "print(temp[temp[\"count\"] == 1].shape)"
   ]
  },
  {
   "cell_type": "code",
   "execution_count": 15,
   "id": "a0b08dc1",
   "metadata": {},
   "outputs": [],
   "source": [
    "# A dataframe containing the hospital admission ID and subject ID for all\n",
    "# patients used in the study and who have only one discharge summary in MIMIC-III\n",
    "# We have no way of telling which set of labels corresponds to which discharge summary\n",
    "# for each such combination of IDs, due to the labels being somewhat mislabeled (the chart.time\n",
    "# field contains either a copy of the hospital admission ID or 999999 for each set of labels,\n",
    "# instead of an actual time), so we can only use discharge summaries from these patients\n",
    "ids_for_non_duplicate = temp[temp[\"count\"] == 1][[\"HADM_ID\", \"SUBJECT_ID\"]]"
   ]
  },
  {
   "cell_type": "code",
   "execution_count": 16,
   "id": "6b0de90e",
   "metadata": {},
   "outputs": [],
   "source": [
    "# This contains the hospital admission ID, subject ID, discharge summary text, and labels\n",
    "# for all of the patients we will be using in our study\n",
    "labelled_corpus_df = pd.merge(merged_df, ids_for_non_duplicate, left_on = [\"HADM_ID\", \"SUBJECT_ID\"], right_on = [\"HADM_ID\", \"SUBJECT_ID\"])\n",
    "labelled_corpus_df = labelled_corpus_df[[\"HADM_ID\",\n",
    "                                         \"SUBJECT_ID\",\n",
    "                                         \"TEXT\",\n",
    "                                         \"Advanced.Cancer\",\n",
    "                                         \"Advanced.Heart.Disease\",\n",
    "                                         \"Advanced.Lung.Disease\",\n",
    "                                         \"Chronic.Neurological.Dystrophies\",\n",
    "                                         \"Chronic.Pain.Fibromyalgia\",\n",
    "                                         \"Alcohol.Abuse\",\n",
    "                                         \"Other.Substance.Abuse\",\n",
    "                                         \"Obesity\",\n",
    "                                         \"Schizophrenia.and.other.Psychiatric.Disorders\",\n",
    "                                         \"Depression\"]]"
   ]
  },
  {
   "cell_type": "code",
   "execution_count": 17,
   "id": "ac943e0f",
   "metadata": {},
   "outputs": [
    {
     "data": {
      "text/html": [
       "<div>\n",
       "<style scoped>\n",
       "    .dataframe tbody tr th:only-of-type {\n",
       "        vertical-align: middle;\n",
       "    }\n",
       "\n",
       "    .dataframe tbody tr th {\n",
       "        vertical-align: top;\n",
       "    }\n",
       "\n",
       "    .dataframe thead th {\n",
       "        text-align: right;\n",
       "    }\n",
       "</style>\n",
       "<table border=\"1\" class=\"dataframe\">\n",
       "  <thead>\n",
       "    <tr style=\"text-align: right;\">\n",
       "      <th></th>\n",
       "      <th>HADM_ID</th>\n",
       "      <th>SUBJECT_ID</th>\n",
       "      <th>TEXT</th>\n",
       "      <th>Advanced.Cancer</th>\n",
       "      <th>Advanced.Heart.Disease</th>\n",
       "      <th>Advanced.Lung.Disease</th>\n",
       "      <th>Chronic.Neurological.Dystrophies</th>\n",
       "      <th>Chronic.Pain.Fibromyalgia</th>\n",
       "      <th>Alcohol.Abuse</th>\n",
       "      <th>Other.Substance.Abuse</th>\n",
       "      <th>Obesity</th>\n",
       "      <th>Schizophrenia.and.other.Psychiatric.Disorders</th>\n",
       "      <th>Depression</th>\n",
       "    </tr>\n",
       "  </thead>\n",
       "  <tbody>\n",
       "    <tr>\n",
       "      <th>0</th>\n",
       "      <td>118003.0</td>\n",
       "      <td>3644</td>\n",
       "      <td>Admission Date:  [**2200-4-7**]     Discharge ...</td>\n",
       "      <td>0</td>\n",
       "      <td>0</td>\n",
       "      <td>0</td>\n",
       "      <td>0</td>\n",
       "      <td>1</td>\n",
       "      <td>0</td>\n",
       "      <td>0</td>\n",
       "      <td>0</td>\n",
       "      <td>0</td>\n",
       "      <td>1</td>\n",
       "    </tr>\n",
       "  </tbody>\n",
       "</table>\n",
       "</div>"
      ],
      "text/plain": [
       "    HADM_ID  SUBJECT_ID                                               TEXT   \n",
       "0  118003.0        3644  Admission Date:  [**2200-4-7**]     Discharge ...  \\\n",
       "\n",
       "   Advanced.Cancer  Advanced.Heart.Disease  Advanced.Lung.Disease   \n",
       "0                0                       0                      0  \\\n",
       "\n",
       "   Chronic.Neurological.Dystrophies  Chronic.Pain.Fibromyalgia  Alcohol.Abuse   \n",
       "0                                 0                          1              0  \\\n",
       "\n",
       "   Other.Substance.Abuse  Obesity   \n",
       "0                      0        0  \\\n",
       "\n",
       "   Schizophrenia.and.other.Psychiatric.Disorders  Depression  \n",
       "0                                              0           1  "
      ]
     },
     "execution_count": 17,
     "metadata": {},
     "output_type": "execute_result"
    }
   ],
   "source": [
    "labelled_corpus_df.head(1)"
   ]
  },
  {
   "cell_type": "code",
   "execution_count": 18,
   "id": "1e061fed",
   "metadata": {
    "scrolled": true
   },
   "outputs": [
    {
     "data": {
      "text/plain": [
       "\"Admission Date:  [**2200-4-7**]     Discharge Date:  [**2200-4-10**]\\n\\nDate of Birth:   [**2146-9-21**]     Sex:  F\\n\\nService:  CARDIAC INTENSIVE CARE MEDICINE\\n\\nCHIEF COMPLAINT:  The patient was admitted to the Cardiac\\nIntensive Care Unit Medicine Service on [**2200-4-7**], with the\\nchief complaint of acute myocardial infarction and fever.\\n\\nHISTORY OF PRESENT ILLNESS:  The patient is a 53 year old\\nwhite female with a history of coronary artery disease,\\nhypertension, hypercholesterolemia and two pack per day\\ntobacco use with previous coronary artery bypass graft\\nsurgery presenting to an outside hospital on [**2200-4-6**], with a\\ntwo day history of fevers and confusion.  The patient had a\\nCT scan of the chest at that time which revealed pneumonia by\\nreport in the left lower lobe.\\n\\nWhile in the outside hospital Emergency Department, the\\npatient complained of chest pain.  The patient states that\\nshe has had this pain for approximately two weeks with no\\nrelief.  She was given Levofloxacin for apparent community\\nacquired pneumonia and cardiac enzymes were cycled.  The\\npatient was found to have a troponin of 3.98 which rose to\\n6.10 as well as CK MBs of 17.3 and 15.2 but no CPKs were\\nrecorded.  The patient's white blood cell count at that time\\nwas 20.6.  The patient received Lovenox and Aspirin and was\\ntransferred to the Cardiac Intensive Care Unit at [**Hospital1 346**] for further management.\\n\\nOf note, the patient's husband reports that she possibly took\\napproximately 17 tablets of 300 mg of Neurontin in the five\\ndays prior to admission.\\n\\nPAST MEDICAL HISTORY:\\n1.  Coronary artery disease, status post coronary artery\\n    bypass graft.\\n2.  Hypertension.\\n3.  Elevated cholesterol.\\n4.  Chronic low back pain.\\n5.  Bronchitis.\\n6.  Question of liver disease.\\n7.  Gastroesophageal reflux disease.\\n8.  Depression.\\n\\nALLERGIES:  Nitroglycerin produces significant decrease in\\nblood pressure.  Tape and bee stings.\\n\\nMEDICATIONS ON ADMISSION:\\n1.  Robaxin 750 mg two tablets q4hours p.r.n.\\n2.  Alprazolam 1.5 mg q.i.d.\\n3.  Lipitor 80 mg p.o. q.d.\\n4.  Gemfibrozil 600 mg b.i.d.\\n5.  Zoloft 150 mg q.d.\\n6.  Prilosec 20 mg q.d.\\n7.  Trazodone 150 mg q.h.s.\\n8.  Duragesic patch 100 mcg q72hours.\\n9.  Enteric Coated Aspirin 81 mg q.d.\\n10. Vancenase inhaler p.r.n.\\n11. Oxycodone 10 mg q4hours p.r.n.\\n12. Neurontin 300 mg p.o. b.i.d. to t.i.d.\\n\\nSOCIAL HISTORY:  The patient smokes two packs per day of\\ntobacco and drinks alcohol socially.  She is married and\\nlives with her husband.\\n\\nFAMILY HISTORY:  Notable for positive coronary artery disease\\nalthough no further or more specific history could be\\nobtained.\\n\\nPHYSICAL EXAMINATION:  On admission, the patient's vital\\nsigns were as follows:  Temperature 98.2, pulse 83,\\nrespiratory rate 17, blood pressure 89/50 with a mean of 67,\\noxygen saturation 98% on nonrebreather.  Of note, the patient\\nstates that her blood pressure usually runs between 80 and 90\\nsystolic.  In general, the patient was alert although had\\ndifficulty remembering and formulating thoughts.  Head, eyes,\\nears, nose and throat examination - The pupils are equal,\\nround, and reactive to light and accommodation.  Extraocular\\nmovements are intact.  Sclera anicteric.  Conjunctivae pink.\\nSlight jaundice and pallor.  The neck was supple with no\\nlymphadenopathy.  The lungs demonstrate coarse rhonchi,\\nquestion of upper airway sounds transmitted to the anterior\\nand midaxillary line.  Cardiovascular regular rate and\\nrhythm, S1 and S2, no murmurs, rubs or gallops.  The abdomen\\nwas soft, nontender, nondistended, with normoactive bowel\\nsounds.  The extremities were warm, 2+ dorsalis pedis pulses\\nbilaterally.  No edema.  Femoral pulses 2+, no bruits.\\nRectal examination was guaiac negative per Emergency\\nDepartment report at the outside hospital.\\n\\nLABORATORY DATA:  From the outside hospital, white count 20.6\\nwith 89 neutrophils, 1 band, 5 lymphocytes, 4 monocytes,\\nhematocrit 38.2, platelets 222, MCV 94.9.  Sodium 138,\\npotassium 4.1, chloride 98, bicarbonate 37, blood urea\\nnitrogen 16, creatinine 0.7, glucose 111.  Prothrombin time\\n12.3, partial thromboplastin time 28.9, INR 1.05.  As\\npreviously mentioned, troponin was 3.98 and 6.10 as well as\\nCK MBs of 17.3 and 15.2 although no CPKs obtainable.  Albumin\\n3.4, total protein 6.5, alkaline phosphatase 148, AST 109,\\nALT 25, total bilirubin 0.3, calcium 8.9.  Urinalysis was\\nnotable for urine protein of 30.\\n\\nElectrocardiogram showed normal sinus rhythm with a rate of\\n88 beats per minute.  Q-Tc 443, normal axis.  ST elevations\\nin leads III, aVF, ST depressions in leads I, aVL and V1\\nthrough V3 with a Q wave in lead III.\\n\\nChest x-ray showed no infiltrate and no pulmonary edema\\nalthough CT scan did show some question of a left lower lobe\\ninfiltrate not seen on chest x-ray.\\n\\nHOSPITAL COURSE:  The patient was admitted for management of\\nconfusion, fever, elevated white count, chest pain, and\\nquestion of myocardial infarction in the setting of coronary\\nartery disease, status post coronary artery bypass graft four\\nyears prior.  CKs were cycled.  The patient was held NPO and\\nfamily members were [**Name (NI) 653**].  The patient was continued on\\nLevofloxacin as started at the outside hospital and given\\ninhalers p.r.n.\\n\\nA psychiatry consultation was obtained on the morning of\\n[**2200-4-7**], given the patient's significant degree of\\ndisorientation and confusion and labile emotions.  The\\npsychiatrist's impression was that the patient was suffering\\nfrom delirium with waxing and [**Doctor Last Name 688**] mental status\\nexamination with poor memory.  At the time of the interview,\\nthe patient was agreeing to consider catheterization although\\nit was noted that if she changed her mind given the\\nimportance of this procedure that her husband and children\\nshould be [**Doctor Last Name 653**] regarding consent for the procedure and\\nthat her capacity to consent at that time should be held in\\nquestion.  Recommendations were made for Haldol p.r.n. as\\nwell as Xanax.  B12, folate, RPR and TSH were all ordered\\nwhich returned as normal.  The patient also had a head CT at\\nthe outside hospital which was unremarkable.\\n\\nCKs were sent at our hospital with initial level of CPK 464,\\nMB 12 and a troponin of 49 obtained.  The patient had been\\nplaced on Heparin prior to the anticipation of cardiac\\ncatheterization. The patient was initially consented to have\\ncardiac catheterization on [**2200-4-7**], although had an acute\\ndecompensation in mental status and anxiety attack and it was\\ndetermined that she would be at high risk for the procedure\\nat that time.  Thus, the procedure was deferred to the\\nmorning of [**2200-4-8**], and findings were as follows:\\n\\nLeft ventricular ejection fraction 62%.  Inferior\\nhypokinesis.  Normal valves.  Discrete proximal right\\ncoronary artery lesion of 100% stenosis.  Left main 100%\\ndiscrete stenosis.  Mid left anterior descending discrete\\n100% stenosis, 50% discrete midcircumflex stenosis.  Bypass\\ngraft saphenous vein graft to the right coronary artery was\\n100% discrete stenosis.  Left internal mammary artery to the\\nleft anterior descending patent and RIMA to the right\\ncoronary artery with a 40% stenosis.  No intervention was\\nperformed.\\n\\nIt was determined that the patient should be maximized on\\nmedical therapy only.  The patient was prescribed with\\nAspirin and Plavix at that time and given diuresis for\\nincreasing oxygen requirement.  The patient returned to the\\nfloor in stable condition and was to the Step-Down Cardiac\\nUnit on [**2200-4-8**].  The patient returned to baseline mental\\nstatus throughout the remainder of her hospital stay and was\\ndetermined to be in stable condition by [**2200-4-10**], to be\\ndischarged.  The patient was in agreement with this plan.\\n\\nDISCHARGE DIAGNOSES:\\n1.  Coronary artery disease, status post coronary artery\\n    bypass graft in [**2195**], now with occluded saphenous vein\\n    graft to be medically managed.\\n2.  Hypertension.\\n3.  Elevated cholesterol.\\n4.  Chronic low back pain.\\n5.  Bronchitis with possible acute pneumonia.\\n6.  Gastroesophageal reflux disease.\\n7.  Depression.\\n\\nDISCHARGE MEDICATIONS:\\n1.  Levofloxacin 500 mg p.o. q.d. times nine days to complete\\n    a fourteen day course.\\n2.  Plavix 75 mg one p.o. q.d.\\n3.  Colace 100 mg p.o. b.i.d. p.r.n. for constipation.\\n4.  Neutra-Phos one packet p.o. b.i.d. times thirty days.\\n5.  Prilosec 20 mg p.o. q.d.\\n6.  Enteric Coated Aspirin 325 mg p.o. q.d.\\n7.  Zoloft 150 mg p.o. q.d.\\n8.  Lipitor 80 mg p.o. q.d.\\n9.  Trazodone 150 mg p.o. q.h.s.\\n10. Fentanyl patch 100 mcg transdermal every three days.\\n11. Atrovent inhaler two puffs b.i.d.\\n12. Tylenol #3 p.r.n.\\n13. Alprazolam 1.5 mg p.o. q.i.d. p.r.n.\\n14. Gemfibrozil 600 mg p.o. q.d.\\n15. Neurontin 300 mg p.o. t.i.d.\\n\\nThe patient was to follow-up with her regular cardiologist,\\nDr [**First Name8 (NamePattern2) **] [**Last Name (NamePattern1) **], in one to two weeks after discharge.\\nConsideration is to be made in the future as to whether or\\nnot the patient's blood pressure can tolerate addition of\\neither an ace inhibitor or a beta blocker to her medical\\nregimen for mortality benefit.\\n\\n\\n\\n\\n                          [**First Name8 (NamePattern2) 2206**] [**First Name4 (NamePattern1) **] [**Last Name (NamePattern1) **], M.D.  [**MD Number(1) 18924**]\\n\\nDictated By:[**Last Name (NamePattern1) 7118**]\\n\\nMEDQUIST36\\n\\nD:  [**2200-4-10**]  12:15\\nT:  [**2200-4-12**]  08:50\\nJOB#:  [**Job Number 18925**]\\n\""
      ]
     },
     "execution_count": 18,
     "metadata": {},
     "output_type": "execute_result"
    }
   ],
   "source": [
    "labelled_corpus_df.iloc[0][\"TEXT\"]"
   ]
  },
  {
   "cell_type": "code",
   "execution_count": 19,
   "id": "4d7b3ff4",
   "metadata": {},
   "outputs": [
    {
     "data": {
      "text/plain": [
       "\"Admission Date 2200 4 7 Discharge Date 2200 4 10 Date of Birth 2146 9 21 Sex F Service CARDIAC INTENSIVE CARE MEDICINE CHIEF COMPLAINT The patient was admitted to the Cardiac Intensive Care Unit Medicine Service on 2200 4 7 , with the chief complaint of acute myocardial infarction and fever HISTORY OF PRESENT ILLNESS The patient is a 53 year old white female with a history of coronary artery disease , hypertension , hypercholesterolemia and two pack per day tobacco use with previous coronary artery bypass graft surgery presenting to an outside hospital on 2200 4 6 , with a two day history of fevers and confusion The patient had a CT scan of the chest at that time which revealed pneumonia by report in the left lower lobe While in the outside hospital Emergency Department , the patient complained of chest pain The patient states that she has had this pain for approximately two weeks with no relief She was given Levofloxacin for apparent community acquired pneumonia and cardiac enzymes were cycled The patient was found to have a troponin of 3 98 which rose to 6 10 as well as CK MBs of 17 3 and 15 2 but no CPKs were recorded The patient 's white blood cell count at that time was 20 6 The patient received Lovenox and Aspirin and was transferred to the Cardiac Intensive Care Unit at Hospital1 346 for further management Of note , the patient 's husband reports that she possibly took approximately 17 tablets of 300 mg of Neurontin in the five days prior to admission PAST MEDICAL HISTORY 1 Coronary artery disease , status post coronary artery bypass graft 2 Hypertension 3 Elevated cholesterol 4 Chronic low back pain 5 Bronchitis 6 Question of liver disease 7 Gastroesophageal reflux disease 8 Depression ALLERGIES Nitroglycerin produces significant decrease in blood pressure Tape and bee stings MEDICATIONS ON ADMISSION 1 Robaxin 750 mg two tablets q4hours p r n 2 Alprazolam 1 5 mg q i d 3 Lipitor 80 mg p o q d 4 Gemfibrozil 600 mg b i d 5 Zoloft 150 mg q d 6 Prilosec 20 mg q d 7 Trazodone 150 mg q h s 8 Duragesic patch 100 mcg q72hours 9 Enteric Coated Aspirin 81 mg q d 10 Vancenase inhaler p r n 11 Oxycodone 10 mg q4hours p r n 12 Neurontin 300 mg p o b i d to t i d SOCIAL HISTORY The patient smokes two packs per day of tobacco and drinks alcohol socially She is married and lives with her husband FAMILY HISTORY Notable for positive coronary artery disease although no further or more specific history could be obtained PHYSICAL EXAMINATION On admission , the patient 's vital signs were as follows Temperature 98 2 , pulse 83 , respiratory rate 17 , blood pressure 89 50 with a mean of 67 , oxygen saturation 98 on nonrebreather Of note , the patient states that her blood pressure usually runs between 80 and 90 systolic In general , the patient was alert although had difficulty remembering and formulating thoughts Head , eyes , ears , nose and throat examination The pupils are equal , round , and reactive to light and accommodation Extraocular movements are intact Sclera anicteric Conjunctivae pink Slight jaundice and pallor The neck was supple with no lymphadenopathy The lungs demonstrate coarse rhonchi , question of upper airway sounds transmitted to the anterior and midaxillary line Cardiovascular regular rate and rhythm , S1 and S2 , no murmurs , rubs or gallops The abdomen was soft , nontender , nondistended , with normoactive bowel sounds The extremities were warm , 2 dorsalis pedis pulses bilaterally No edema Femoral pulses 2 , no bruits Rectal examination was guaiac negative per Emergency Department report at the outside hospital LABORATORY DATA From the outside hospital , white count 20 6 with 89 neutrophils , 1 band , 5 lymphocytes , 4 monocytes , hematocrit 38 2 , platelets 222 , MCV 94 9 Sodium 138 , potassium 4 1 , chloride 98 , bicarbonate 37 , blood urea nitrogen 16 , creatinine 0 7 , glucose 111 Prothrombin time 12 3 , partial thromboplastin time 28 9 , INR 1 05 As previously mentioned , troponin was 3 98 and 6 10 as well as CK MBs of 17 3 and 15 2 although no CPKs obtainable Albumin 3 4 , total protein 6 5 , alkaline phosphatase 148 , AST 109 , ALT 25 , total bilirubin 0 3 , calcium 8 9 Urinalysis was notable for urine protein of 30 Electrocardiogram showed normal sinus rhythm with a rate of 88 beats per minute Q Tc 443 , normal axis ST elevations in leads III , aVF , ST depressions in leads I , aVL and V1 through V3 with a Q wave in lead III Chest x ray showed no infiltrate and no pulmonary edema although CT scan did show some question of a left lower lobe infiltrate not seen on chest x ray HOSPITAL COURSE The patient was admitted for management of confusion , fever , elevated white count , chest pain , and question of myocardial infarction in the setting of coronary artery disease , status post coronary artery bypass graft four years prior CKs were cycled The patient was held NPO and family members were Name ( NI ) 653 The patient was continued on Levofloxacin as started at the outside hospital and given inhalers p r n A psychiatry consultation was obtained on the morning of 2200 4 7 , given the patient 's significant degree of disorientation and confusion and labile emotions The psychiatrist 's impression was that the patient was suffering from delirium with waxing and Doctor Last Name 688 mental status examination with poor memory At the time of the interview , the patient was agreeing to consider catheterization although it was noted that if she changed her mind given the importance of this procedure that her husband and children should be Doctor Last Name 653 regarding consent for the procedure and that her capacity to consent at that time should be held in question Recommendations were made for Haldol p r n as well as Xanax B12 , folate , RPR and TSH were all ordered which returned as normal The patient also had a head CT at the outside hospital which was unremarkable CKs were sent at our hospital with initial level of CPK 464 , MB 12 and a troponin of 49 obtained The patient had been placed on Heparin prior to the anticipation of cardiac catheterization The patient was initially consented to have cardiac catheterization on 2200 4 7 , although had an acute decompensation in mental status and anxiety attack and it was determined that she would be at high risk for the procedure at that time Thus , the procedure was deferred to the morning of 2200 4 8 , and findings were as follows Left ventricular ejection fraction 62 Inferior hypokinesis Normal valves Discrete proximal right coronary artery lesion of 100 stenosis Left main 100 discrete stenosis Mid left anterior descending discrete 100 stenosis , 50 discrete midcircumflex stenosis Bypass graft saphenous vein graft to the right coronary artery was 100 discrete stenosis Left internal mammary artery to the left anterior descending patent and RIMA to the right coronary artery with a 40 stenosis No intervention was performed It was determined that the patient should be maximized on medical therapy only The patient was prescribed with Aspirin and Plavix at that time and given diuresis for increasing oxygen requirement The patient returned to the floor in stable condition and was to the Step Down Cardiac Unit on 2200 4 8 The patient returned to baseline mental status throughout the remainder of her hospital stay and was determined to be in stable condition by 2200 4 10 , to be discharged The patient was in agreement with this plan DISCHARGE DIAGNOSES 1 Coronary artery disease , status post coronary artery bypass graft in 2195 , now with occluded saphenous vein graft to be medically managed 2 Hypertension 3 Elevated cholesterol 4 Chronic low back pain 5 Bronchitis with possible acute pneumonia 6 Gastroesophageal reflux disease 7 Depression DISCHARGE MEDICATIONS 1 Levofloxacin 500 mg p o q d times nine days to complete a fourteen day course 2 Plavix 75 mg one p o q d 3 Colace 100 mg p o b i d p r n for constipation 4 Neutra Phos one packet p o b i d times thirty days 5 Prilosec 20 mg p o q d 6 Enteric Coated Aspirin 325 mg p o q d 7 Zoloft 150 mg p o q d 8 Lipitor 80 mg p o q d 9 Trazodone 150 mg p o q h s 10 Fentanyl patch 100 mcg transdermal every three days 11 Atrovent inhaler two puffs b i d 12 Tylenol 3 p r n 13 Alprazolam 1 5 mg p o q i d p r n 14 Gemfibrozil 600 mg p o q d 15 Neurontin 300 mg p o t i d The patient was to follow up with her regular cardiologist , Dr First Name8 ( NamePattern2 ) Last Name ( NamePattern1 ) , in one to two weeks after discharge Consideration is to be made in the future as to whether or not the patient 's blood pressure can tolerate addition of either an ace inhibitor or a beta blocker to her medical regimen for mortality benefit First Name8 ( NamePattern2 ) 2206 First Name4 ( NamePattern1 ) Last Name ( NamePattern1 ) , M D MD Number ( 1 ) 18924 Dictated By Last Name ( NamePattern1 ) 7118 MEDQUIST36 D 2200 4 10 12 15 T 2200 4 12 08 50 JOB Job Number 18925\""
      ]
     },
     "execution_count": 19,
     "metadata": {},
     "output_type": "execute_result"
    }
   ],
   "source": [
    "# From provided code\n",
    "# Did not remove commas??\n",
    "# Separates \"patient's\" into \"patient 's\"??? Purpose???? -> should be caught with n-grams\n",
    "def clean_str(string):\n",
    "    \"\"\"\n",
    "    Tokenization/string cleaning.\n",
    "    \"\"\"\n",
    "    string = re.sub(r\"[^A-Za-z0-9(),!?\\'\\`]\", \" \", string)\n",
    "    string = re.sub(r\"\\'s\", \" \\'s\", string)\n",
    "    string = re.sub(r\"\\'ve\", \" \\'ve\", string)\n",
    "    string = re.sub(r\"n\\'t\", \" n\\'t\", string)\n",
    "    string = re.sub(r\"\\'re\", \" \\'re\", string)\n",
    "    string = re.sub(r\"\\'d\", \" \\'d\", string)\n",
    "    string = re.sub(r\"\\'ll\", \" \\'ll\", string)\n",
    "    string = re.sub(r\",\", \" , \", string)\n",
    "    string = re.sub(r\"!\", \" ! \", string)\n",
    "    string = re.sub(r\"\\(\", \" ( \", string)\n",
    "    string = re.sub(r\"\\)\", \" ) \", string)\n",
    "    string = re.sub(r\"\\?\", \" ? \", string)\n",
    "    string = re.sub(r\"\\s{2,}\", \" \", string)\n",
    "    return string.strip().lower() # We include lower()??? # .lower() word2vec is case sensitive\n",
    "\n",
    "clean_str(labelled_corpus_df.iloc[0][\"TEXT\"])"
   ]
  },
  {
   "cell_type": "code",
   "execution_count": 20,
   "id": "5183d413",
   "metadata": {},
   "outputs": [
    {
     "name": "stdout",
     "output_type": "stream",
     "text": [
      "2.2439024448394775\n"
     ]
    }
   ],
   "source": [
    "# Takes ~25 seconds once, then just 1.6344 seconds when run later?\n",
    "t1 = time.time()\n",
    "labelled_corpus_df[\"Cleaned Text\"] = labelled_corpus_df.apply(lambda row : clean_str(row[\"TEXT\"]), axis = 1)\n",
    "labelled_corpus_df = labelled_corpus_df.drop(['TEXT'], axis=1)\n",
    "t2 = time.time()\n",
    "print(t2 - t1)"
   ]
  },
  {
   "cell_type": "code",
   "execution_count": 21,
   "id": "45e0872d",
   "metadata": {},
   "outputs": [
    {
     "data": {
      "text/plain": [
       "\"Admission Date 2131 3 26 Discharge Date 2131 3 29 Date of Birth 2079 11 1 Sex M Service MEDICINE Allergies Bactrim Levaquin Location ( un ) Juice Attending First Name3 ( LF ) 348 Chief Complaint hypoglycemic episode , cough Major Surgical or Invasive Procedure History of Present Illness Mr Known lastname 7264 is a 51 year old male with past medical history significant for type I diabetes and mental retardation who was brought to ED from his group home after an episode of hypoglycemia with FSG of 37 and repeat FSG of 40 even after having his dinner EMS was called and he was given 12 16 amp of dextrose enroute to Hospital1 18 Per caregivers , patient 's mental status was at usual baseline In the ED , initial vs were T Age over 90 F , P 86 , BP 104 63 , RR 20 , O2 saturation rate is 97 room air Glucose trend in ED included 0030 fs Telephone Fax ( 1 ) 7265 fs Telephone Fax ( 1 ) 7266 fs 173 He also had a fever to 103F , noted cough on exam and tachypnea to mid 30s range No ABG was done in ED CXR revealed infiltrates in LLL and CTA also showed bilateral lower lobe predominant opacities with more confluent consolidation in the LLL No evidence of pulmonary embolism He was given 1L NS IVFs , 1g IV Ceftriaxone , 500mg IV Azithromycin , and 1g Vancomycin for broad coverage for PNA On arrival to the ICU he appeared to be in no apparent distress and was able to answer select yes no questions but communication was limited so most of history collected from his group home care giver Patient appeared very pale and had very dry mucous membranes and dry tongue that were quite noticeable Past Medical History mental retardation lives in group home Type I diabetes HgbA1c 8 7 on 2131 2 15 recurrent dermatitis chronic pancytopenias ( since 2119 ) hyperlipidemia Iron Deficiency Anemia history of B12 deficiency Social History Lives in group home Requires assistance with medications Limited prior tobacco use , unable to specify amount Family History unknown Physical Exam Vitals T 99 7F , HR 111 , BP 128 62 , RR 21 , O2 saturation 98 on 3L NC General alert , no acute distress HEENT Sclera anicteric , dry MM , oropharynx clear Neck supple , JVP at 5 6cm , no LAD , no thyromegaly Lungs Bibasilar crackles , no wheezes , rhonchi CVS Regular rate and rhythm , normal S1 S2 , no murmurs , rubs , gallops Abdomen soft , non tender , non distended , bowel sounds present , no rebound tenderness or guarding , no organomegaly GU no foley in place NEURO CNs 1 26 in tact , EOMI , sensation to light touch in tact , toes downgoing , rest of exam limited SKIN pale complexion , no bruising , no rashes or lesions Ext warm , well perfused , 2 peripheral pulses x 4 extremities and no cyanosis or edema Pertinent Results Initial studies Micro Blood Cultures x2 pending UA negative CXR lower lobe opacities noted on left side CTA Techincally limited study , with suboptimal opacification of segmental and subsegmental vessels No central or large segmental PE Bilateral lower lobe predominant peribronchovascular opacity with more confluent consolidation in the LLL , suggestive of bronchopneumonia Hilar and mediastinal adenopathy is likely reactive Aberrant right subclavian artery EKG sinus tachycardia at 116 , no ST elevations depressions Brief Hospital Course Middle aged Male with history of MR , brittle DM I who presented with hypoglycemia , multifocal PNA initially admitted to the ICU for resp distress but transferred to the floor without need for intubation Multifocal PNA Pt noted on CXR and Chest CT to have multifocal PNA He was initially admitted to the ICU given the concern for possible intubation 1 16 tachypnea however his breathing rate has subsequently improved He was transferred from the ICU to the floor on IV Vancomycin , Cefepime and Azithromycin Microbiology work up has consisted of blood cultures , MRSA screen Urine legionella was also negative He was transitioned to oral antibiotics of Azithromycin however he was noted to develop a drug rash It is unclear if it was due to the Azithromycin versus Zofran , though I suspect it may be Azithromycin given his history of abx allergies He was transitioned to Doxycycline Hyclate 100mg twice a day Thrombocytopenia Pt was noted to have some thrombocytopenia during his hospitalization but did not require any platelet transfusions On review of OMR it appears he has a history of thrombocytopenia down to the 60s 100s between 2119 2126 His platelet count was trended and noted to improve , transient plt drop may have been due to Vancomycin , can continue outpatient follow up Hypoglycemia Pt noted to be hypoglycemic prior to admission , though subsequent CBGs showed no hypoglycemia The hypoglycemia was likely due to poor PO intake given his infectious state Last Name ( un ) was consulted and followed the patient in house , he was discharged on Lantus 20units and Metformin 500mg Mental Retardation Agitation He was continued on his home regimen of Clonazepam Hyperlipidemia He was continued on Simvastatin 40mg qHS Medications on Admission Clonazepam 2 mg TID Aspirin 81 mg daily Cyanocobalamin 100 mcg daily Perphenazine 8 mg TID Depakote 250 mg Delayed Release once a day Fluticasone 50 mcg two sprays nasal daily Cholecalciferol ( Vitamin D3 ) 400 units daily Calcium Carbonate 500 mg TID Simvastatin 40 mg daily Senna 8 6 mg x2 HS Docusate Sodium 100 mg Hospital1 Tylenol 650mg q4hrs prn Lantus 25 units qam Insulin Aspart Novolog sliding scale TID Multivitamin daily Benztropine 1 mg twice day Metformin 500mg Hospital1 Benadryl 25mg q8hrs PRN Discharge Medications 1 Clonazepam 1 mg Tablet Sig Two ( 2 ) Tablet PO TID ( 3 times a day ) 2 Aspirin 81 mg Tablet Sig One ( 1 ) Tablet PO once a day 3 Cyanocobalamin 100 mcg Tablet Sig One ( 1 ) Tablet PO DAILY ( Daily ) 4 Perphenazine 8 mg Tablet Sig One ( 1 ) Tablet PO TID ( 3 times a day ) 5 Divalproex 250 mg Tablet , Delayed Release ( E C ) Sig One ( 1 ) Tablet , Delayed Release ( E C ) PO DAILY ( Daily ) 6 Fluticasone 50 mcg Actuation Spray , Suspension Sig Two ( 2 ) Spray Nasal DAILY ( Daily ) 7 Cholecalciferol ( Vitamin D3 ) 400 unit Tablet Sig One ( 1 ) Tablet PO once a day 8 Simvastatin 40 mg Tablet Sig One ( 1 ) Tablet PO HS ( at bedtime ) 9 Senna 8 6 mg Tablet Sig Two ( 2 ) Tablet PO HS ( at bedtime ) as needed for constipation 10 Docusate Sodium 100 mg Capsule Sig One ( 1 ) Capsule PO BID ( 2 times a day ) 11 Tylenol 325 mg Tablet Sig Two ( 2 ) Tablet PO every four ( 4 ) hours as needed for fever or pain 12 Multivitamin Tablet Sig One ( 1 ) Tablet PO DAILY ( Daily ) 13 Benztropine 0 5 mg Tablet Sig Two ( 2 ) Tablet PO BID ( 2 times a day ) 14 Metformin 500 mg Tablet Sig One ( 1 ) Tablet PO twice a day 15 Guaifenesin 100 mg 5 mL Syrup Sig 5 10 MLs PO Q6H ( every 6 hours ) as needed for cough Disp 120 ML ( s ) Refills 0 16 Doxycycline Hyclate 100 mg Capsule Sig One ( 1 ) Capsule PO Q12H ( every 12 hours ) for 7 days Disp 14 Capsule ( s ) Refills 0 17 Insulin Glargine 100 unit mL Solution Sig Twenty ( 20 ) units Subcutaneous once a day 18 Insulin Lispro 100 unit mL Solution Sig One ( 1 ) unit Subcutaneous four times a day per your insulin sliding scale Discharge Disposition Home Discharge Diagnosis 1 Multifocal Pneumonia 2 Hypoglycemia 3 Diabetes Mellitus Type I Discharge Condition Mental Status Clear and coherent Level of Consciousness Alert and interactive Activity Status Ambulatory Independent Discharge Instructions You were admitted to the hospital after you were noted to have a low blood sugar level and a cough Whilst you were in the Emergency Room you appeared to have trouble breathing so you were sent to the intensive care unit After being observed overnight with your breathing improving you were transferred to the regular floor Prior to your discharge you were noted to have a rash to one of your medications We think it was one of the antibiotics ( Azithromycin ) Your antibiotics were changed , after taking this medication you displayed no signs of a rash You were started you on two NEW medications 1 Please take Doxycycline Hyclate 100mg twice a day for the next 7 days ( your last dose of this medication will be 2131 4 5 ) 2 We CHANGED one of your old medications 1 Please take 20units of Lantus ( also known as Glargine ) once a day instead of 25 units During your CAT scan of your chest you were noted to have some lymph nodes in your chest This is probably due to the infection you You will however need to get a CAT scan of your chest in 1 months time Please have Dr First Name ( STitle ) your doctor make this appointment for you so he can follow up on this You also noted some pain in your arm , it did not appear to be broken , you can Tylenol 650mg every 4 hours as needed for the pain Followup Instructions During your CAT scan of your chest you were noted to have some lymph nodes in your chest This is probably due to the infection you You will however need to get a CAT scan of your chest in 1 months time Please have Dr First Name ( STitle ) your doctor make this appointment for you so he can follow up on this Please make sure you follow up with all of your appointments Name Last Name ( LF ) 978 , First Name7 ( NamePattern1 ) 7208 Initial ( NamePattern1 ) Last Name ( NamePattern4 ) Location Last Name ( un ) DIABETES CENTER Address ONE Last Name ( un ) PLACE , Location ( un ) , Numeric Identifier 718 Phone Telephone Fax ( 1 ) 2378 Appointment 2131 4 10 10 30am Name Last Name ( LF ) 4322 , First Name3 ( LF ) 1569 L Location Hospital 4323 MEDICAL Address Location ( un ) 4324 , Street Address ( 1 ) 4323 , Numeric Identifier 4325 Phone Telephone Fax ( 1 ) 4326 Appointment 2131 4 9 3 30pm\""
      ]
     },
     "execution_count": 21,
     "metadata": {},
     "output_type": "execute_result"
    }
   ],
   "source": [
    "labelled_corpus_df.iloc[100][\"Cleaned Text\"]"
   ]
  },
  {
   "cell_type": "code",
   "execution_count": 77,
   "id": "eb048e39",
   "metadata": {},
   "outputs": [],
   "source": [
    "# Save the dataframe containing the documents of interest and their labels\n",
    "labelled_corpus_df.to_csv('labelled_corpus_df.csv')"
   ]
  },
  {
   "cell_type": "code",
   "execution_count": 22,
   "id": "a8762a1b",
   "metadata": {},
   "outputs": [],
   "source": [
    "# List of lists, where each internal list contains the words of a document\n",
    "# Fairly fast\n",
    "labelled_corpus_lol = [row.split() for row in labelled_corpus_df['Cleaned Text']]"
   ]
  },
  {
   "cell_type": "code",
   "execution_count": 23,
   "id": "780a7845",
   "metadata": {},
   "outputs": [
    {
     "data": {
      "text/plain": [
       "1341"
      ]
     },
     "execution_count": 23,
     "metadata": {},
     "output_type": "execute_result"
    }
   ],
   "source": [
    "len(labelled_corpus_lol) # 1341 documents"
   ]
  },
  {
   "cell_type": "code",
   "execution_count": 24,
   "id": "416c91bf",
   "metadata": {},
   "outputs": [
    {
     "data": {
      "text/plain": [
       "['Admission',\n",
       " 'Date',\n",
       " '2200',\n",
       " '4',\n",
       " '7',\n",
       " 'Discharge',\n",
       " 'Date',\n",
       " '2200',\n",
       " '4',\n",
       " '10',\n",
       " 'Date',\n",
       " 'of',\n",
       " 'Birth',\n",
       " '2146',\n",
       " '9',\n",
       " '21',\n",
       " 'Sex',\n",
       " 'F',\n",
       " 'Service',\n",
       " 'CARDIAC',\n",
       " 'INTENSIVE',\n",
       " 'CARE',\n",
       " 'MEDICINE',\n",
       " 'CHIEF',\n",
       " 'COMPLAINT',\n",
       " 'The',\n",
       " 'patient',\n",
       " 'was',\n",
       " 'admitted',\n",
       " 'to',\n",
       " 'the',\n",
       " 'Cardiac',\n",
       " 'Intensive',\n",
       " 'Care',\n",
       " 'Unit',\n",
       " 'Medicine',\n",
       " 'Service',\n",
       " 'on',\n",
       " '2200',\n",
       " '4',\n",
       " '7',\n",
       " ',',\n",
       " 'with',\n",
       " 'the',\n",
       " 'chief',\n",
       " 'complaint',\n",
       " 'of',\n",
       " 'acute',\n",
       " 'myocardial',\n",
       " 'infarction',\n",
       " 'and',\n",
       " 'fever',\n",
       " 'HISTORY',\n",
       " 'OF',\n",
       " 'PRESENT',\n",
       " 'ILLNESS',\n",
       " 'The',\n",
       " 'patient',\n",
       " 'is',\n",
       " 'a',\n",
       " '53',\n",
       " 'year',\n",
       " 'old',\n",
       " 'white',\n",
       " 'female',\n",
       " 'with',\n",
       " 'a',\n",
       " 'history',\n",
       " 'of',\n",
       " 'coronary',\n",
       " 'artery',\n",
       " 'disease',\n",
       " ',',\n",
       " 'hypertension',\n",
       " ',',\n",
       " 'hypercholesterolemia',\n",
       " 'and',\n",
       " 'two',\n",
       " 'pack',\n",
       " 'per',\n",
       " 'day',\n",
       " 'tobacco',\n",
       " 'use',\n",
       " 'with',\n",
       " 'previous',\n",
       " 'coronary',\n",
       " 'artery',\n",
       " 'bypass',\n",
       " 'graft',\n",
       " 'surgery',\n",
       " 'presenting',\n",
       " 'to',\n",
       " 'an',\n",
       " 'outside',\n",
       " 'hospital',\n",
       " 'on',\n",
       " '2200',\n",
       " '4',\n",
       " '6',\n",
       " ',',\n",
       " 'with',\n",
       " 'a',\n",
       " 'two',\n",
       " 'day',\n",
       " 'history',\n",
       " 'of',\n",
       " 'fevers',\n",
       " 'and',\n",
       " 'confusion',\n",
       " 'The',\n",
       " 'patient',\n",
       " 'had',\n",
       " 'a',\n",
       " 'CT',\n",
       " 'scan',\n",
       " 'of',\n",
       " 'the',\n",
       " 'chest',\n",
       " 'at',\n",
       " 'that',\n",
       " 'time',\n",
       " 'which',\n",
       " 'revealed',\n",
       " 'pneumonia',\n",
       " 'by',\n",
       " 'report',\n",
       " 'in',\n",
       " 'the',\n",
       " 'left',\n",
       " 'lower',\n",
       " 'lobe',\n",
       " 'While',\n",
       " 'in',\n",
       " 'the',\n",
       " 'outside',\n",
       " 'hospital',\n",
       " 'Emergency',\n",
       " 'Department',\n",
       " ',',\n",
       " 'the',\n",
       " 'patient',\n",
       " 'complained',\n",
       " 'of',\n",
       " 'chest',\n",
       " 'pain',\n",
       " 'The',\n",
       " 'patient',\n",
       " 'states',\n",
       " 'that',\n",
       " 'she',\n",
       " 'has',\n",
       " 'had',\n",
       " 'this',\n",
       " 'pain',\n",
       " 'for',\n",
       " 'approximately',\n",
       " 'two',\n",
       " 'weeks',\n",
       " 'with',\n",
       " 'no',\n",
       " 'relief',\n",
       " 'She',\n",
       " 'was',\n",
       " 'given',\n",
       " 'Levofloxacin',\n",
       " 'for',\n",
       " 'apparent',\n",
       " 'community',\n",
       " 'acquired',\n",
       " 'pneumonia',\n",
       " 'and',\n",
       " 'cardiac',\n",
       " 'enzymes',\n",
       " 'were',\n",
       " 'cycled',\n",
       " 'The',\n",
       " 'patient',\n",
       " 'was',\n",
       " 'found',\n",
       " 'to',\n",
       " 'have',\n",
       " 'a',\n",
       " 'troponin',\n",
       " 'of',\n",
       " '3',\n",
       " '98',\n",
       " 'which',\n",
       " 'rose',\n",
       " 'to',\n",
       " '6',\n",
       " '10',\n",
       " 'as',\n",
       " 'well',\n",
       " 'as',\n",
       " 'CK',\n",
       " 'MBs',\n",
       " 'of',\n",
       " '17',\n",
       " '3',\n",
       " 'and',\n",
       " '15',\n",
       " '2',\n",
       " 'but',\n",
       " 'no',\n",
       " 'CPKs',\n",
       " 'were',\n",
       " 'recorded',\n",
       " 'The',\n",
       " 'patient',\n",
       " \"'s\",\n",
       " 'white',\n",
       " 'blood',\n",
       " 'cell',\n",
       " 'count',\n",
       " 'at',\n",
       " 'that',\n",
       " 'time',\n",
       " 'was',\n",
       " '20',\n",
       " '6',\n",
       " 'The',\n",
       " 'patient',\n",
       " 'received',\n",
       " 'Lovenox',\n",
       " 'and',\n",
       " 'Aspirin',\n",
       " 'and',\n",
       " 'was',\n",
       " 'transferred',\n",
       " 'to',\n",
       " 'the',\n",
       " 'Cardiac',\n",
       " 'Intensive',\n",
       " 'Care',\n",
       " 'Unit',\n",
       " 'at',\n",
       " 'Hospital1',\n",
       " '346',\n",
       " 'for',\n",
       " 'further',\n",
       " 'management',\n",
       " 'Of',\n",
       " 'note',\n",
       " ',',\n",
       " 'the',\n",
       " 'patient',\n",
       " \"'s\",\n",
       " 'husband',\n",
       " 'reports',\n",
       " 'that',\n",
       " 'she',\n",
       " 'possibly',\n",
       " 'took',\n",
       " 'approximately',\n",
       " '17',\n",
       " 'tablets',\n",
       " 'of',\n",
       " '300',\n",
       " 'mg',\n",
       " 'of',\n",
       " 'Neurontin',\n",
       " 'in',\n",
       " 'the',\n",
       " 'five',\n",
       " 'days',\n",
       " 'prior',\n",
       " 'to',\n",
       " 'admission',\n",
       " 'PAST',\n",
       " 'MEDICAL',\n",
       " 'HISTORY',\n",
       " '1',\n",
       " 'Coronary',\n",
       " 'artery',\n",
       " 'disease',\n",
       " ',',\n",
       " 'status',\n",
       " 'post',\n",
       " 'coronary',\n",
       " 'artery',\n",
       " 'bypass',\n",
       " 'graft',\n",
       " '2',\n",
       " 'Hypertension',\n",
       " '3',\n",
       " 'Elevated',\n",
       " 'cholesterol',\n",
       " '4',\n",
       " 'Chronic',\n",
       " 'low',\n",
       " 'back',\n",
       " 'pain',\n",
       " '5',\n",
       " 'Bronchitis',\n",
       " '6',\n",
       " 'Question',\n",
       " 'of',\n",
       " 'liver',\n",
       " 'disease',\n",
       " '7',\n",
       " 'Gastroesophageal',\n",
       " 'reflux',\n",
       " 'disease',\n",
       " '8',\n",
       " 'Depression',\n",
       " 'ALLERGIES',\n",
       " 'Nitroglycerin',\n",
       " 'produces',\n",
       " 'significant',\n",
       " 'decrease',\n",
       " 'in',\n",
       " 'blood',\n",
       " 'pressure',\n",
       " 'Tape',\n",
       " 'and',\n",
       " 'bee',\n",
       " 'stings',\n",
       " 'MEDICATIONS',\n",
       " 'ON',\n",
       " 'ADMISSION',\n",
       " '1',\n",
       " 'Robaxin',\n",
       " '750',\n",
       " 'mg',\n",
       " 'two',\n",
       " 'tablets',\n",
       " 'q4hours',\n",
       " 'p',\n",
       " 'r',\n",
       " 'n',\n",
       " '2',\n",
       " 'Alprazolam',\n",
       " '1',\n",
       " '5',\n",
       " 'mg',\n",
       " 'q',\n",
       " 'i',\n",
       " 'd',\n",
       " '3',\n",
       " 'Lipitor',\n",
       " '80',\n",
       " 'mg',\n",
       " 'p',\n",
       " 'o',\n",
       " 'q',\n",
       " 'd',\n",
       " '4',\n",
       " 'Gemfibrozil',\n",
       " '600',\n",
       " 'mg',\n",
       " 'b',\n",
       " 'i',\n",
       " 'd',\n",
       " '5',\n",
       " 'Zoloft',\n",
       " '150',\n",
       " 'mg',\n",
       " 'q',\n",
       " 'd',\n",
       " '6',\n",
       " 'Prilosec',\n",
       " '20',\n",
       " 'mg',\n",
       " 'q',\n",
       " 'd',\n",
       " '7',\n",
       " 'Trazodone',\n",
       " '150',\n",
       " 'mg',\n",
       " 'q',\n",
       " 'h',\n",
       " 's',\n",
       " '8',\n",
       " 'Duragesic',\n",
       " 'patch',\n",
       " '100',\n",
       " 'mcg',\n",
       " 'q72hours',\n",
       " '9',\n",
       " 'Enteric',\n",
       " 'Coated',\n",
       " 'Aspirin',\n",
       " '81',\n",
       " 'mg',\n",
       " 'q',\n",
       " 'd',\n",
       " '10',\n",
       " 'Vancenase',\n",
       " 'inhaler',\n",
       " 'p',\n",
       " 'r',\n",
       " 'n',\n",
       " '11',\n",
       " 'Oxycodone',\n",
       " '10',\n",
       " 'mg',\n",
       " 'q4hours',\n",
       " 'p',\n",
       " 'r',\n",
       " 'n',\n",
       " '12',\n",
       " 'Neurontin',\n",
       " '300',\n",
       " 'mg',\n",
       " 'p',\n",
       " 'o',\n",
       " 'b',\n",
       " 'i',\n",
       " 'd',\n",
       " 'to',\n",
       " 't',\n",
       " 'i',\n",
       " 'd',\n",
       " 'SOCIAL',\n",
       " 'HISTORY',\n",
       " 'The',\n",
       " 'patient',\n",
       " 'smokes',\n",
       " 'two',\n",
       " 'packs',\n",
       " 'per',\n",
       " 'day',\n",
       " 'of',\n",
       " 'tobacco',\n",
       " 'and',\n",
       " 'drinks',\n",
       " 'alcohol',\n",
       " 'socially',\n",
       " 'She',\n",
       " 'is',\n",
       " 'married',\n",
       " 'and',\n",
       " 'lives',\n",
       " 'with',\n",
       " 'her',\n",
       " 'husband',\n",
       " 'FAMILY',\n",
       " 'HISTORY',\n",
       " 'Notable',\n",
       " 'for',\n",
       " 'positive',\n",
       " 'coronary',\n",
       " 'artery',\n",
       " 'disease',\n",
       " 'although',\n",
       " 'no',\n",
       " 'further',\n",
       " 'or',\n",
       " 'more',\n",
       " 'specific',\n",
       " 'history',\n",
       " 'could',\n",
       " 'be',\n",
       " 'obtained',\n",
       " 'PHYSICAL',\n",
       " 'EXAMINATION',\n",
       " 'On',\n",
       " 'admission',\n",
       " ',',\n",
       " 'the',\n",
       " 'patient',\n",
       " \"'s\",\n",
       " 'vital',\n",
       " 'signs',\n",
       " 'were',\n",
       " 'as',\n",
       " 'follows',\n",
       " 'Temperature',\n",
       " '98',\n",
       " '2',\n",
       " ',',\n",
       " 'pulse',\n",
       " '83',\n",
       " ',',\n",
       " 'respiratory',\n",
       " 'rate',\n",
       " '17',\n",
       " ',',\n",
       " 'blood',\n",
       " 'pressure',\n",
       " '89',\n",
       " '50',\n",
       " 'with',\n",
       " 'a',\n",
       " 'mean',\n",
       " 'of',\n",
       " '67',\n",
       " ',',\n",
       " 'oxygen',\n",
       " 'saturation',\n",
       " '98',\n",
       " 'on',\n",
       " 'nonrebreather',\n",
       " 'Of',\n",
       " 'note',\n",
       " ',',\n",
       " 'the',\n",
       " 'patient',\n",
       " 'states',\n",
       " 'that',\n",
       " 'her',\n",
       " 'blood',\n",
       " 'pressure',\n",
       " 'usually',\n",
       " 'runs',\n",
       " 'between',\n",
       " '80',\n",
       " 'and',\n",
       " '90',\n",
       " 'systolic',\n",
       " 'In',\n",
       " 'general',\n",
       " ',',\n",
       " 'the',\n",
       " 'patient',\n",
       " 'was',\n",
       " 'alert',\n",
       " 'although',\n",
       " 'had',\n",
       " 'difficulty',\n",
       " 'remembering',\n",
       " 'and',\n",
       " 'formulating',\n",
       " 'thoughts',\n",
       " 'Head',\n",
       " ',',\n",
       " 'eyes',\n",
       " ',',\n",
       " 'ears',\n",
       " ',',\n",
       " 'nose',\n",
       " 'and',\n",
       " 'throat',\n",
       " 'examination',\n",
       " 'The',\n",
       " 'pupils',\n",
       " 'are',\n",
       " 'equal',\n",
       " ',',\n",
       " 'round',\n",
       " ',',\n",
       " 'and',\n",
       " 'reactive',\n",
       " 'to',\n",
       " 'light',\n",
       " 'and',\n",
       " 'accommodation',\n",
       " 'Extraocular',\n",
       " 'movements',\n",
       " 'are',\n",
       " 'intact',\n",
       " 'Sclera',\n",
       " 'anicteric',\n",
       " 'Conjunctivae',\n",
       " 'pink',\n",
       " 'Slight',\n",
       " 'jaundice',\n",
       " 'and',\n",
       " 'pallor',\n",
       " 'The',\n",
       " 'neck',\n",
       " 'was',\n",
       " 'supple',\n",
       " 'with',\n",
       " 'no',\n",
       " 'lymphadenopathy',\n",
       " 'The',\n",
       " 'lungs',\n",
       " 'demonstrate',\n",
       " 'coarse',\n",
       " 'rhonchi',\n",
       " ',',\n",
       " 'question',\n",
       " 'of',\n",
       " 'upper',\n",
       " 'airway',\n",
       " 'sounds',\n",
       " 'transmitted',\n",
       " 'to',\n",
       " 'the',\n",
       " 'anterior',\n",
       " 'and',\n",
       " 'midaxillary',\n",
       " 'line',\n",
       " 'Cardiovascular',\n",
       " 'regular',\n",
       " 'rate',\n",
       " 'and',\n",
       " 'rhythm',\n",
       " ',',\n",
       " 'S1',\n",
       " 'and',\n",
       " 'S2',\n",
       " ',',\n",
       " 'no',\n",
       " 'murmurs',\n",
       " ',',\n",
       " 'rubs',\n",
       " 'or',\n",
       " 'gallops',\n",
       " 'The',\n",
       " 'abdomen',\n",
       " 'was',\n",
       " 'soft',\n",
       " ',',\n",
       " 'nontender',\n",
       " ',',\n",
       " 'nondistended',\n",
       " ',',\n",
       " 'with',\n",
       " 'normoactive',\n",
       " 'bowel',\n",
       " 'sounds',\n",
       " 'The',\n",
       " 'extremities',\n",
       " 'were',\n",
       " 'warm',\n",
       " ',',\n",
       " '2',\n",
       " 'dorsalis',\n",
       " 'pedis',\n",
       " 'pulses',\n",
       " 'bilaterally',\n",
       " 'No',\n",
       " 'edema',\n",
       " 'Femoral',\n",
       " 'pulses',\n",
       " '2',\n",
       " ',',\n",
       " 'no',\n",
       " 'bruits',\n",
       " 'Rectal',\n",
       " 'examination',\n",
       " 'was',\n",
       " 'guaiac',\n",
       " 'negative',\n",
       " 'per',\n",
       " 'Emergency',\n",
       " 'Department',\n",
       " 'report',\n",
       " 'at',\n",
       " 'the',\n",
       " 'outside',\n",
       " 'hospital',\n",
       " 'LABORATORY',\n",
       " 'DATA',\n",
       " 'From',\n",
       " 'the',\n",
       " 'outside',\n",
       " 'hospital',\n",
       " ',',\n",
       " 'white',\n",
       " 'count',\n",
       " '20',\n",
       " '6',\n",
       " 'with',\n",
       " '89',\n",
       " 'neutrophils',\n",
       " ',',\n",
       " '1',\n",
       " 'band',\n",
       " ',',\n",
       " '5',\n",
       " 'lymphocytes',\n",
       " ',',\n",
       " '4',\n",
       " 'monocytes',\n",
       " ',',\n",
       " 'hematocrit',\n",
       " '38',\n",
       " '2',\n",
       " ',',\n",
       " 'platelets',\n",
       " '222',\n",
       " ',',\n",
       " 'MCV',\n",
       " '94',\n",
       " '9',\n",
       " 'Sodium',\n",
       " '138',\n",
       " ',',\n",
       " 'potassium',\n",
       " '4',\n",
       " '1',\n",
       " ',',\n",
       " 'chloride',\n",
       " '98',\n",
       " ',',\n",
       " 'bicarbonate',\n",
       " '37',\n",
       " ',',\n",
       " 'blood',\n",
       " 'urea',\n",
       " 'nitrogen',\n",
       " '16',\n",
       " ',',\n",
       " 'creatinine',\n",
       " '0',\n",
       " '7',\n",
       " ',',\n",
       " 'glucose',\n",
       " '111',\n",
       " 'Prothrombin',\n",
       " 'time',\n",
       " '12',\n",
       " '3',\n",
       " ',',\n",
       " 'partial',\n",
       " 'thromboplastin',\n",
       " 'time',\n",
       " '28',\n",
       " '9',\n",
       " ',',\n",
       " 'INR',\n",
       " '1',\n",
       " '05',\n",
       " 'As',\n",
       " 'previously',\n",
       " 'mentioned',\n",
       " ',',\n",
       " 'troponin',\n",
       " 'was',\n",
       " '3',\n",
       " '98',\n",
       " 'and',\n",
       " '6',\n",
       " '10',\n",
       " 'as',\n",
       " 'well',\n",
       " 'as',\n",
       " 'CK',\n",
       " 'MBs',\n",
       " 'of',\n",
       " '17',\n",
       " '3',\n",
       " 'and',\n",
       " '15',\n",
       " '2',\n",
       " 'although',\n",
       " 'no',\n",
       " 'CPKs',\n",
       " 'obtainable',\n",
       " 'Albumin',\n",
       " '3',\n",
       " '4',\n",
       " ',',\n",
       " 'total',\n",
       " 'protein',\n",
       " '6',\n",
       " '5',\n",
       " ',',\n",
       " 'alkaline',\n",
       " 'phosphatase',\n",
       " '148',\n",
       " ',',\n",
       " 'AST',\n",
       " '109',\n",
       " ',',\n",
       " 'ALT',\n",
       " '25',\n",
       " ',',\n",
       " 'total',\n",
       " 'bilirubin',\n",
       " '0',\n",
       " '3',\n",
       " ',',\n",
       " 'calcium',\n",
       " '8',\n",
       " '9',\n",
       " 'Urinalysis',\n",
       " 'was',\n",
       " 'notable',\n",
       " 'for',\n",
       " 'urine',\n",
       " 'protein',\n",
       " 'of',\n",
       " '30',\n",
       " 'Electrocardiogram',\n",
       " 'showed',\n",
       " 'normal',\n",
       " 'sinus',\n",
       " 'rhythm',\n",
       " 'with',\n",
       " 'a',\n",
       " 'rate',\n",
       " 'of',\n",
       " '88',\n",
       " 'beats',\n",
       " 'per',\n",
       " 'minute',\n",
       " 'Q',\n",
       " 'Tc',\n",
       " '443',\n",
       " ',',\n",
       " 'normal',\n",
       " 'axis',\n",
       " 'ST',\n",
       " 'elevations',\n",
       " 'in',\n",
       " 'leads',\n",
       " 'III',\n",
       " ',',\n",
       " 'aVF',\n",
       " ',',\n",
       " 'ST',\n",
       " 'depressions',\n",
       " 'in',\n",
       " 'leads',\n",
       " 'I',\n",
       " ',',\n",
       " 'aVL',\n",
       " 'and',\n",
       " 'V1',\n",
       " 'through',\n",
       " 'V3',\n",
       " 'with',\n",
       " 'a',\n",
       " 'Q',\n",
       " 'wave',\n",
       " 'in',\n",
       " 'lead',\n",
       " 'III',\n",
       " 'Chest',\n",
       " 'x',\n",
       " 'ray',\n",
       " 'showed',\n",
       " 'no',\n",
       " 'infiltrate',\n",
       " 'and',\n",
       " 'no',\n",
       " 'pulmonary',\n",
       " 'edema',\n",
       " 'although',\n",
       " 'CT',\n",
       " 'scan',\n",
       " 'did',\n",
       " 'show',\n",
       " 'some',\n",
       " 'question',\n",
       " 'of',\n",
       " 'a',\n",
       " 'left',\n",
       " 'lower',\n",
       " 'lobe',\n",
       " 'infiltrate',\n",
       " 'not',\n",
       " 'seen',\n",
       " 'on',\n",
       " 'chest',\n",
       " 'x',\n",
       " 'ray',\n",
       " 'HOSPITAL',\n",
       " 'COURSE',\n",
       " 'The',\n",
       " 'patient',\n",
       " 'was',\n",
       " 'admitted',\n",
       " 'for',\n",
       " 'management',\n",
       " 'of',\n",
       " 'confusion',\n",
       " ',',\n",
       " 'fever',\n",
       " ',',\n",
       " 'elevated',\n",
       " 'white',\n",
       " 'count',\n",
       " ',',\n",
       " 'chest',\n",
       " 'pain',\n",
       " ',',\n",
       " 'and',\n",
       " 'question',\n",
       " 'of',\n",
       " 'myocardial',\n",
       " 'infarction',\n",
       " 'in',\n",
       " 'the',\n",
       " 'setting',\n",
       " 'of',\n",
       " 'coronary',\n",
       " 'artery',\n",
       " 'disease',\n",
       " ',',\n",
       " 'status',\n",
       " 'post',\n",
       " 'coronary',\n",
       " 'artery',\n",
       " 'bypass',\n",
       " 'graft',\n",
       " 'four',\n",
       " 'years',\n",
       " 'prior',\n",
       " 'CKs',\n",
       " 'were',\n",
       " 'cycled',\n",
       " 'The',\n",
       " 'patient',\n",
       " 'was',\n",
       " 'held',\n",
       " 'NPO',\n",
       " 'and',\n",
       " 'family',\n",
       " 'members',\n",
       " 'were',\n",
       " 'Name',\n",
       " '(',\n",
       " 'NI',\n",
       " ')',\n",
       " '653',\n",
       " 'The',\n",
       " 'patient',\n",
       " 'was',\n",
       " 'continued',\n",
       " 'on',\n",
       " 'Levofloxacin',\n",
       " 'as',\n",
       " 'started',\n",
       " 'at',\n",
       " 'the',\n",
       " 'outside',\n",
       " 'hospital',\n",
       " 'and',\n",
       " 'given',\n",
       " 'inhalers',\n",
       " 'p',\n",
       " 'r',\n",
       " 'n',\n",
       " 'A',\n",
       " 'psychiatry',\n",
       " 'consultation',\n",
       " 'was',\n",
       " 'obtained',\n",
       " 'on',\n",
       " 'the',\n",
       " 'morning',\n",
       " 'of',\n",
       " '2200',\n",
       " '4',\n",
       " '7',\n",
       " ',',\n",
       " 'given',\n",
       " 'the',\n",
       " 'patient',\n",
       " \"'s\",\n",
       " 'significant',\n",
       " 'degree',\n",
       " 'of',\n",
       " 'disorientation',\n",
       " 'and',\n",
       " 'confusion',\n",
       " 'and',\n",
       " 'labile',\n",
       " 'emotions',\n",
       " 'The',\n",
       " 'psychiatrist',\n",
       " \"'s\",\n",
       " 'impression',\n",
       " 'was',\n",
       " 'that',\n",
       " 'the',\n",
       " 'patient',\n",
       " 'was',\n",
       " 'suffering',\n",
       " 'from',\n",
       " 'delirium',\n",
       " 'with',\n",
       " 'waxing',\n",
       " 'and',\n",
       " 'Doctor',\n",
       " 'Last',\n",
       " 'Name',\n",
       " '688',\n",
       " 'mental',\n",
       " 'status',\n",
       " 'examination',\n",
       " 'with',\n",
       " 'poor',\n",
       " 'memory',\n",
       " 'At',\n",
       " 'the',\n",
       " 'time',\n",
       " 'of',\n",
       " 'the',\n",
       " 'interview',\n",
       " ',',\n",
       " 'the',\n",
       " 'patient',\n",
       " 'was',\n",
       " 'agreeing',\n",
       " 'to',\n",
       " 'consider',\n",
       " 'catheterization',\n",
       " 'although',\n",
       " 'it',\n",
       " 'was',\n",
       " 'noted',\n",
       " 'that',\n",
       " 'if',\n",
       " 'she',\n",
       " ...]"
      ]
     },
     "execution_count": 24,
     "metadata": {},
     "output_type": "execute_result"
    }
   ],
   "source": [
    "labelled_corpus_lol[0]"
   ]
  },
  {
   "cell_type": "code",
   "execution_count": 25,
   "id": "70fcee87",
   "metadata": {},
   "outputs": [
    {
     "name": "stdout",
     "output_type": "stream",
     "text": [
      "50.2814359664917\n"
     ]
    }
   ],
   "source": [
    "# Most hyperparameters specified in journal\n",
    "# embedding_vector_size wasn't specified -> he said 300 in email\n",
    "t_start = time.time()\n",
    "w2v_model = Word2Vec(labelled_corpus_lol,\n",
    "                     sg=0,\n",
    "                     window=10,\n",
    "                     negative=10,\n",
    "                     min_count=5,\n",
    "                     epochs=15,\n",
    "                     vector_size=embedding_vector_size,\n",
    "                     workers=3)\n",
    "t_end = time.time()\n",
    "\n",
    "print(t_end - t_start) # ~45 seconds for embedding_vector_size = 50. 66.4061 seconds for embedding_vector_size = 300. 50.2814359664917 for 100"
   ]
  },
  {
   "cell_type": "code",
   "execution_count": 26,
   "id": "a4f82bfc",
   "metadata": {},
   "outputs": [],
   "source": [
    "# Just get the vectors\n",
    "word_vectors = w2v_model.wv\n",
    "del w2v_model\n",
    "\n",
    "# These vectors were constructed using only the 1341 documents we are currently using, and not all discharge summaries\n",
    "word_vectors.save(\"word_vectors_only_from_study_documents.wordvectors\")"
   ]
  },
  {
   "cell_type": "code",
   "execution_count": 27,
   "id": "787131b2",
   "metadata": {},
   "outputs": [],
   "source": [
    "# Don't need to run word2vec again\n",
    "# word_vectors = KeyedVectors.load(\"word_vectors_only_from_study_documents.wordvectors\", mmap='r')"
   ]
  },
  {
   "cell_type": "code",
   "execution_count": 28,
   "id": "f2bcce55",
   "metadata": {},
   "outputs": [
    {
     "name": "stdout",
     "output_type": "stream",
     "text": [
      "[-3.1913362  -0.7937584  -3.4305966   1.3779067   1.0334337   3.8803656\n",
      "  2.0882313   1.5921046  -0.9834959   0.05798558 -2.747063    0.26504967\n",
      " -0.32764825 -4.9664536   1.2170032  -3.2212317  -0.37966898  1.470269\n",
      "  2.4975111  -0.3585035   1.5303808  -3.5003257  -1.8195837   6.3704357\n",
      "  2.0175116   0.5442167   2.562562   -2.0317864  -0.08685263  1.1242979\n",
      " -3.2902176   1.9299203   0.84349376 -0.5805749   0.48449987 -0.49465993\n",
      " -1.541613    5.019491    1.8745767   1.1560003  -2.1119165  -4.795454\n",
      " -3.5808349   1.3001137   2.738111    2.1493132  -0.05681613 -0.592943\n",
      "  5.17941     0.17885032  0.41830295 -2.6522846  -3.9515848   0.8653915\n",
      "  1.4369856   0.5619563  -2.2285926  -4.5738487   0.3616729  -5.2329664\n",
      "  4.8648844  -2.1206367   4.608313   -1.9105221  -5.087372   -2.356315\n",
      "  0.6225381  -7.5958996   3.5571334   0.44847414 -1.4302235   0.93212014\n",
      " -0.50478613  1.5071125  -0.73268026  1.5939337  -2.4759367  -3.1776161\n",
      "  0.05058745 -1.1722823   2.0113988  -1.5730745  -4.967529   -6.350148\n",
      " -0.00979118 -1.2679316  -3.965293   -2.1496782  -1.0161407  -5.458964\n",
      " -3.6789727   2.401911   -0.3568729   2.4308927  -0.54805464 -2.7730799\n",
      " -1.2162529   0.1439455  -2.242704   -0.98273283]\n"
     ]
    }
   ],
   "source": [
    "print(word_vectors['alcohol'])"
   ]
  },
  {
   "cell_type": "code",
   "execution_count": 29,
   "id": "69da03ab",
   "metadata": {},
   "outputs": [
    {
     "data": {
      "text/plain": [
       "[('ETOH', 0.7669126987457275),\n",
       " ('tobacco', 0.7483139038085938),\n",
       " ('illicit', 0.7401039600372314),\n",
       " ('substance', 0.7321199774742126),\n",
       " ('EtOH', 0.7297239303588867)]"
      ]
     },
     "execution_count": 29,
     "metadata": {},
     "output_type": "execute_result"
    }
   ],
   "source": [
    "word_vectors.most_similar(\"alcohol\", topn = 5)"
   ]
  },
  {
   "cell_type": "code",
   "execution_count": 30,
   "id": "a56bb5dc",
   "metadata": {},
   "outputs": [
    {
     "name": "stdout",
     "output_type": "stream",
     "text": [
      "Vocabulary Size\n",
      "15543\n"
     ]
    }
   ],
   "source": [
    "print(\"Vocabulary Size\")\n",
    "print(len(word_vectors))"
   ]
  },
  {
   "cell_type": "code",
   "execution_count": 31,
   "id": "c1525bed",
   "metadata": {},
   "outputs": [
    {
     "data": {
      "text/plain": [
       "True"
      ]
     },
     "execution_count": 31,
     "metadata": {},
     "output_type": "execute_result"
    }
   ],
   "source": [
    "\"alcohol\" in word_vectors"
   ]
  },
  {
   "cell_type": "code",
   "execution_count": 32,
   "id": "b1c5ba84",
   "metadata": {},
   "outputs": [
    {
     "data": {
      "text/plain": [
       "False"
      ]
     },
     "execution_count": 32,
     "metadata": {},
     "output_type": "execute_result"
    }
   ],
   "source": [
    "\"bee\" in word_vectors"
   ]
  },
  {
   "cell_type": "code",
   "execution_count": 35,
   "id": "ed4e11fe",
   "metadata": {},
   "outputs": [
    {
     "name": "stdout",
     "output_type": "stream",
     "text": [
      "20.533469438552856\n",
      "1341\n",
      "torch.Size([2440, 100])\n"
     ]
    }
   ],
   "source": [
    "# Fairly fast\n",
    "# Creates docs_as_tensors, which features each document as a stack of (horizontal) embeddings for each of its words\n",
    "t1 = time.time()\n",
    "docs_as_tensors = [None] * num_study_docs # Number of documents we use\n",
    "\n",
    "i = 0\n",
    "for doc in labelled_corpus_lol:\n",
    "    docs_as_tensors[i] = torch.stack([torch.from_numpy(word_vectors[word].copy()) for word in doc if (word in word_vectors)])\n",
    "    i += 1\n",
    "\n",
    "    \n",
    "t2 = time.time()\n",
    "\n",
    "print(t2 - t1)\n",
    "\n",
    "print(len(docs_as_tensors))\n",
    "print(docs_as_tensors[len(docs_as_tensors) - 1].shape)"
   ]
  },
  {
   "cell_type": "code",
   "execution_count": 36,
   "id": "2a3af1f2",
   "metadata": {},
   "outputs": [
    {
     "name": "stdout",
     "output_type": "stream",
     "text": [
      "5384\n"
     ]
    }
   ],
   "source": [
    "max_length = 0\n",
    "for doc_tensor in docs_as_tensors:\n",
    "    if doc_tensor.shape[0] > max_length:\n",
    "        max_length = doc_tensor.shape[0]\n",
    "\n",
    "print(max_length)"
   ]
  },
  {
   "cell_type": "code",
   "execution_count": 37,
   "id": "53c6a95c",
   "metadata": {},
   "outputs": [
    {
     "name": "stdout",
     "output_type": "stream",
     "text": [
      "6.639481544494629\n"
     ]
    }
   ],
   "source": [
    "# Pad all documents to the maximum length of any of them\n",
    "# Takes a really long time?\n",
    "# 466.3814811706543 seconds for vector size of 300\n",
    "# 6.639481544494629 seconds for vector size of 100\n",
    "\n",
    "t1 = time.time()\n",
    "\n",
    "# study_corpus_tensor[i, :, :] will contain the representation of the i-th document\n",
    "# padded to the length of the longest document\n",
    "# study_corpus_tensor[i, j, :] will contain the embedding vector for the j-th word in the i-th document,\n",
    "# or all 0s, if j is greater than the number of words in the i-th document\n",
    "study_corpus_tensor = torch.zeros((len(docs_as_tensors), max_length, embedding_vector_size))\n",
    "\n",
    "for i, doc_tensor in enumerate(docs_as_tensors):\n",
    "    study_corpus_tensor[i, 0:doc_tensor.shape[0], :] = doc_tensor\n",
    "\n",
    "t2 = time.time()\n",
    "print(t2 - t1)"
   ]
  },
  {
   "cell_type": "code",
   "execution_count": 38,
   "id": "3f16a6ed",
   "metadata": {},
   "outputs": [
    {
     "data": {
      "text/plain": [
       "torch.Size([1341, 5384, 100])"
      ]
     },
     "execution_count": 38,
     "metadata": {},
     "output_type": "execute_result"
    }
   ],
   "source": [
    "study_corpus_tensor.shape"
   ]
  },
  {
   "cell_type": "code",
   "execution_count": 39,
   "id": "dc2a4208",
   "metadata": {},
   "outputs": [
    {
     "data": {
      "text/plain": [
       "torch.float32"
      ]
     },
     "execution_count": 39,
     "metadata": {},
     "output_type": "execute_result"
    }
   ],
   "source": [
    "study_corpus_tensor.dtype # 4 bytes each"
   ]
  },
  {
   "cell_type": "code",
   "execution_count": 40,
   "id": "f37951c0",
   "metadata": {},
   "outputs": [
    {
     "data": {
      "text/plain": [
       "2887977600"
      ]
     },
     "execution_count": 40,
     "metadata": {},
     "output_type": "execute_result"
    }
   ],
   "source": [
    "1341 * 5384 * 100 * 4"
   ]
  },
  {
   "cell_type": "code",
   "execution_count": 63,
   "id": "3b499558",
   "metadata": {},
   "outputs": [
    {
     "data": {
      "text/plain": [
       "torch.Size([5384, 100])"
      ]
     },
     "execution_count": 63,
     "metadata": {},
     "output_type": "execute_result"
    }
   ],
   "source": [
    "docs_as_tensors[58].shape"
   ]
  },
  {
   "cell_type": "code",
   "execution_count": 74,
   "id": "1af15454",
   "metadata": {},
   "outputs": [],
   "source": [
    "# Save the documents recorded as stacks of word embeddings\n",
    "# They are incomplete, as we used the word2vec embeddings from the 1341 documents under investigation, and not all\n",
    "# discharge summaries in MIMIC-III\n",
    "torch.save(study_corpus_tensor, 'embedded_docs_incomplete.pt')"
   ]
  },
  {
   "cell_type": "code",
   "execution_count": 78,
   "id": "1a7b8d63",
   "metadata": {},
   "outputs": [],
   "source": [
    "# Don't need to do stuff before this point, maybe\n",
    "labelled_corpus_df = pd.read_csv(\"labelled_corpus_df.csv\")"
   ]
  },
  {
   "cell_type": "code",
   "execution_count": 79,
   "id": "12fe9aeb",
   "metadata": {},
   "outputs": [],
   "source": [
    "study_corpus_tensor = torch.load(\"embedded_docs_incomplete.pt\")"
   ]
  },
  {
   "cell_type": "code",
   "execution_count": 82,
   "id": "3950bce0",
   "metadata": {},
   "outputs": [
    {
     "data": {
      "text/html": [
       "<div>\n",
       "<style scoped>\n",
       "    .dataframe tbody tr th:only-of-type {\n",
       "        vertical-align: middle;\n",
       "    }\n",
       "\n",
       "    .dataframe tbody tr th {\n",
       "        vertical-align: top;\n",
       "    }\n",
       "\n",
       "    .dataframe thead th {\n",
       "        text-align: right;\n",
       "    }\n",
       "</style>\n",
       "<table border=\"1\" class=\"dataframe\">\n",
       "  <thead>\n",
       "    <tr style=\"text-align: right;\">\n",
       "      <th></th>\n",
       "      <th>Unnamed: 0</th>\n",
       "      <th>HADM_ID</th>\n",
       "      <th>SUBJECT_ID</th>\n",
       "      <th>TEXT</th>\n",
       "      <th>Advanced.Cancer</th>\n",
       "      <th>Advanced.Heart.Disease</th>\n",
       "      <th>Advanced.Lung.Disease</th>\n",
       "      <th>Chronic.Neurological.Dystrophies</th>\n",
       "      <th>Chronic.Pain.Fibromyalgia</th>\n",
       "      <th>Alcohol.Abuse</th>\n",
       "      <th>Other.Substance.Abuse</th>\n",
       "      <th>Obesity</th>\n",
       "      <th>Schizophrenia.and.other.Psychiatric.Disorders</th>\n",
       "      <th>Depression</th>\n",
       "      <th>Cleaned Text</th>\n",
       "    </tr>\n",
       "  </thead>\n",
       "  <tbody>\n",
       "    <tr>\n",
       "      <th>0</th>\n",
       "      <td>0</td>\n",
       "      <td>118003.0</td>\n",
       "      <td>3644</td>\n",
       "      <td>Admission Date:  [**2200-4-7**]     Discharge ...</td>\n",
       "      <td>0</td>\n",
       "      <td>0</td>\n",
       "      <td>0</td>\n",
       "      <td>0</td>\n",
       "      <td>1</td>\n",
       "      <td>0</td>\n",
       "      <td>0</td>\n",
       "      <td>0</td>\n",
       "      <td>0</td>\n",
       "      <td>1</td>\n",
       "      <td>Admission Date 2200 4 7 Discharge Date 2200 4 ...</td>\n",
       "    </tr>\n",
       "  </tbody>\n",
       "</table>\n",
       "</div>"
      ],
      "text/plain": [
       "   Unnamed: 0   HADM_ID  SUBJECT_ID   \n",
       "0           0  118003.0        3644  \\\n",
       "\n",
       "                                                TEXT  Advanced.Cancer   \n",
       "0  Admission Date:  [**2200-4-7**]     Discharge ...                0  \\\n",
       "\n",
       "   Advanced.Heart.Disease  Advanced.Lung.Disease   \n",
       "0                       0                      0  \\\n",
       "\n",
       "   Chronic.Neurological.Dystrophies  Chronic.Pain.Fibromyalgia  Alcohol.Abuse   \n",
       "0                                 0                          1              0  \\\n",
       "\n",
       "   Other.Substance.Abuse  Obesity   \n",
       "0                      0        0  \\\n",
       "\n",
       "   Schizophrenia.and.other.Psychiatric.Disorders  Depression   \n",
       "0                                              0           1  \\\n",
       "\n",
       "                                        Cleaned Text  \n",
       "0  Admission Date 2200 4 7 Discharge Date 2200 4 ...  "
      ]
     },
     "execution_count": 82,
     "metadata": {},
     "output_type": "execute_result"
    }
   ],
   "source": [
    "labelled_corpus_df.head(1)"
   ]
  },
  {
   "cell_type": "code",
   "execution_count": 83,
   "id": "adc63f32",
   "metadata": {},
   "outputs": [],
   "source": [
    "# Making sure we correctly padded with 0s\n",
    "for i in range(num_study_docs):\n",
    "    if torch.all(study_corpus_tensor[i, 0:docs_as_tensors[i].shape[0], :] != docs_as_tensors[i]):\n",
    "        print(\"Copied wrong while padding document\", i, \"!\")\n",
    "    if docs_as_tensors[i].shape[0] < max_length and torch.all(study_corpus_tensor[i, docs_as_tensors[i].shape[0]:, :] != 0):\n",
    "        print(\"Did not pad document\", i, \"with 0s!\")"
   ]
  },
  {
   "cell_type": "code",
   "execution_count": 84,
   "id": "d9fe89dc",
   "metadata": {},
   "outputs": [],
   "source": [
    "class CustomDatasetEmbedded(Dataset):\n",
    "    def __init__(self, corpus_tensor, labels):\n",
    "        \"\"\"\n",
    "        Store the corpus (of shape num_docs by max_num_words_per_doc by size_of_word embedding) \n",
    "        labels (for a single target variable)\n",
    "        \"\"\"\n",
    "\n",
    "        self.x = corpus_tensor\n",
    "        self.y = labels\n",
    "\n",
    "    def __len__(self):\n",
    "\n",
    "        \"\"\"\n",
    "        Return the number of documents\n",
    "        \"\"\"\n",
    "        return len(self.y)\n",
    "\n",
    "    def __getitem__(self, index):\n",
    "        \"\"\"\n",
    "        Return one document (represented as a tensor, with each row being the embedding for one word in that document),\n",
    "        and its label (whether the patient described has or does not have some phenotype)\n",
    "        \"\"\"\n",
    "        return (self.x[index, :, :], self.y[index])"
   ]
  },
  {
   "cell_type": "code",
   "execution_count": 85,
   "id": "bd8ac5f3",
   "metadata": {},
   "outputs": [
    {
     "data": {
      "text/plain": [
       "0       1\n",
       "1       0\n",
       "2       1\n",
       "3       1\n",
       "4       0\n",
       "       ..\n",
       "1336    0\n",
       "1337    0\n",
       "1338    0\n",
       "1339    0\n",
       "1340    0\n",
       "Name: Depression, Length: 1341, dtype: int64"
      ]
     },
     "execution_count": 85,
     "metadata": {},
     "output_type": "execute_result"
    }
   ],
   "source": [
    "labelled_corpus_df[\"Depression\"]"
   ]
  },
  {
   "cell_type": "code",
   "execution_count": 86,
   "id": "897be6e2",
   "metadata": {},
   "outputs": [],
   "source": [
    "depression_dataset = CustomDatasetEmbedded(study_corpus_tensor, labelled_corpus_df[\"Depression\"])"
   ]
  },
  {
   "cell_type": "code",
   "execution_count": 87,
   "id": "2ae970c4",
   "metadata": {},
   "outputs": [],
   "source": [
    "train_dataset, test_dataset = torch.utils.data.random_split(depression_dataset, [0.8, 0.2])"
   ]
  },
  {
   "cell_type": "code",
   "execution_count": 88,
   "id": "0fa633f7",
   "metadata": {},
   "outputs": [
    {
     "data": {
      "text/plain": [
       "1073"
      ]
     },
     "execution_count": 88,
     "metadata": {},
     "output_type": "execute_result"
    }
   ],
   "source": [
    "len(train_dataset)"
   ]
  },
  {
   "cell_type": "code",
   "execution_count": 89,
   "id": "69393e6a",
   "metadata": {},
   "outputs": [
    {
     "data": {
      "text/plain": [
       "268"
      ]
     },
     "execution_count": 89,
     "metadata": {},
     "output_type": "execute_result"
    }
   ],
   "source": [
    "len(test_dataset)"
   ]
  },
  {
   "cell_type": "code",
   "execution_count": 90,
   "id": "2ecad066",
   "metadata": {},
   "outputs": [],
   "source": [
    "train_loader = torch.utils.data.DataLoader(train_dataset, batch_size = 32, shuffle = True) # Batch size?\n",
    "test_loader = torch.utils.data.DataLoader(test_dataset, batch_size = 32)"
   ]
  },
  {
   "cell_type": "code",
   "execution_count": 92,
   "id": "b2645280",
   "metadata": {},
   "outputs": [
    {
     "data": {
      "text/plain": [
       "False"
      ]
     },
     "execution_count": 92,
     "metadata": {},
     "output_type": "execute_result"
    }
   ],
   "source": [
    "torch.cuda.is_available()"
   ]
  },
  {
   "cell_type": "code",
   "execution_count": null,
   "id": "d9e09c2a",
   "metadata": {},
   "outputs": [],
   "source": [
    "# Not sure of correctness!!!?!?!?!?!????\n",
    "class CNN_1_gram(nn.Module):\n",
    "    def __init__(self):\n",
    "        super(CNN_1_gram, self).__init__()\n",
    "        self.conv1 = nn.Conv2d(in_channels = 1,\n",
    "                               out_channels = 100,\n",
    "                               kernel_size = (1, embedding_vector_size)\n",
    "                               stride = 1,\n",
    "                               padding = 0)\n",
    "        self.do = nn.Dropout(p = 0.5) \n",
    "        \n",
    "        # each kernel's feature map is condensed to a single value\n",
    "        conv1_output_height = study_corpus_tensor.shape[1] + 1 - 1\n",
    "        self.pool1 = nn.MaxPool2d(kernel_size = (conv1_output_height, embedding_vector_size))\n",
    "        self.fc= nn.Linear(100, 2) # Input size???? 100, for 100 filters????\n",
    "        \n",
    "    def forward(self, x):\n",
    "        x1 = torch.relu(self.conv1(x))\n",
    "        x = self.pool(x1)\n",
    "        x = self.do(x) # WHERE DOES THIS GO????? Onto output of pooling???\n",
    "        x = torch.flatten(x, start_dim = 1) # check that start_dim is right for our input????\n",
    "        \n",
    "        # Can I feed x into multiple convolutional layers in parallel????\n",
    "        \n",
    "        # Right????\n",
    "        # local output = nn.LogSoftMax()(linear(nn.Dropout(opt.dropout_p)(last_layer)))\n",
    "        x = nn.LogSoftmax(self.fc(x)) \n",
    "        # print(x.shape)\n",
    "        # raise NotImplementedError\n",
    "        return x"
   ]
  }
 ],
 "metadata": {
  "kernelspec": {
   "display_name": "Python 3 (ipykernel)",
   "language": "python",
   "name": "python3"
  },
  "language_info": {
   "codemirror_mode": {
    "name": "ipython",
    "version": 3
   },
   "file_extension": ".py",
   "mimetype": "text/x-python",
   "name": "python",
   "nbconvert_exporter": "python",
   "pygments_lexer": "ipython3",
   "version": "3.8.10"
  }
 },
 "nbformat": 4,
 "nbformat_minor": 5
}
